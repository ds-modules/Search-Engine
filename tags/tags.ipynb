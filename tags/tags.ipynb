{
 "cells": [
  {
   "cell_type": "code",
   "execution_count": 2,
   "metadata": {},
   "outputs": [],
   "source": [
    "import pandas, json, requests, re, os, dotenv, numpy as np, streamlit as st, pandas as pd\n",
    "from utils import *"
   ]
  },
  {
   "cell_type": "code",
   "execution_count": 12,
   "metadata": {},
   "outputs": [
    {
     "data": {
      "text/plain": [
       "{'name': '<course_name>',\n",
       " 'department': '<department_name>',\n",
       " 'number': '<course_number>',\n",
       " 'semester': '<course_semester>',\n",
       " 'domain': '<domain>',\n",
       " 'prerequisites': ['<prereq1>'],\n",
       " 'technologies': ['<tech1>'],\n",
       " 'concepts': ['<concept1>'],\n",
       " 'professor': '<prof_name>',\n",
       " 'is_course': True,\n",
       " 'url': 'https://github.com/ds-modules/air-quality'}"
      ]
     },
     "execution_count": 12,
     "metadata": {},
     "output_type": "execute_result"
    }
   ],
   "source": [
    "names = get_user_repo_names(\"ds-modules\")\n",
    "info = {\n",
    "        \"name\" : \"<course_name>\",\n",
    "        \"department\": \"<department_name>\",\n",
    "        \"number\": \"<course_number>\",\n",
    "        \"semester\": \"<course_semester>\",\n",
    "        \"domain\": \"<domain>\",\n",
    "        \"prerequisites\": [\n",
    "            \"<prereq1>\"\n",
    "        ],\n",
    "        \"technologies\": [\n",
    "            \"<tech1>\"\n",
    "        ],\n",
    "        \"concepts\": [\n",
    "            \"<concept1>\"\n",
    "        ],\n",
    "        \"professor\": \"<prof_name>\",\n",
    "        \"is_course\": True\n",
    "    }\n",
    "tags = {name : info.copy() for name in names}\n",
    "for repo, repo_info in tags.items():\n",
    "    new_info = get_repo_info(owner = \"ds-modules\", name = repo)\n",
    "    url = new_info[\"html_url\"]\n",
    "    repo_info.update({\"url\": url})\n",
    "tags[\"air-quality\"]"
   ]
  },
  {
   "cell_type": "code",
   "execution_count": null,
   "metadata": {},
   "outputs": [],
   "source": [
    "#write tags dict to tags.json with json formatting\n",
    "\n",
    "json.dump(tags, indent=4, fp = open(\"tags.json\", \"w\"))"
   ]
  },
  {
   "cell_type": "code",
   "execution_count": 11,
   "metadata": {},
   "outputs": [
    {
     "data": {
      "text/plain": [
       "'https://github.com/ds-modules/air-quality'"
      ]
     },
     "execution_count": 11,
     "metadata": {},
     "output_type": "execute_result"
    }
   ],
   "source": []
  },
  {
   "cell_type": "code",
   "execution_count": null,
   "metadata": {},
   "outputs": [],
   "source": []
  }
 ],
 "metadata": {
  "kernelspec": {
   "display_name": "Python 3",
   "language": "python",
   "name": "python3"
  },
  "language_info": {
   "codemirror_mode": {
    "name": "ipython",
    "version": 3
   },
   "file_extension": ".py",
   "mimetype": "text/x-python",
   "name": "python",
   "nbconvert_exporter": "python",
   "pygments_lexer": "ipython3",
   "version": "3.10.1"
  },
  "orig_nbformat": 4
 },
 "nbformat": 4,
 "nbformat_minor": 2
}
